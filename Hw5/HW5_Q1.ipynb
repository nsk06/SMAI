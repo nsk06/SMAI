{
 "cells": [
  {
   "cell_type": "code",
   "execution_count": 1,
   "metadata": {},
   "outputs": [
    {
     "name": "stdout",
     "output_type": "stream",
     "text": [
      "Requirement already satisfied: matplotlib in /usr/local/lib/python3.7/site-packages (3.1.1)\n",
      "Requirement already satisfied: pyparsing!=2.0.4,!=2.1.2,!=2.1.6,>=2.0.1 in /usr/local/lib/python3.7/site-packages (from matplotlib) (2.4.2)\n",
      "Requirement already satisfied: numpy>=1.11 in /usr/local/lib/python3.7/site-packages (from matplotlib) (1.16.4)\n",
      "Requirement already satisfied: kiwisolver>=1.0.1 in /usr/local/lib/python3.7/site-packages (from matplotlib) (1.1.0)\n",
      "Requirement already satisfied: cycler>=0.10 in /usr/local/lib/python3.7/site-packages (from matplotlib) (0.10.0)\n",
      "Requirement already satisfied: python-dateutil>=2.1 in /usr/local/lib/python3.7/site-packages (from matplotlib) (2.8.0)\n",
      "Requirement already satisfied: setuptools in /usr/local/lib/python3.7/site-packages (from kiwisolver>=1.0.1->matplotlib) (41.0.1)\n",
      "Requirement already satisfied: six in /usr/local/lib/python3.7/site-packages (from cycler>=0.10->matplotlib) (1.12.0)\n",
      "Requirement already satisfied: numpy in /usr/local/lib/python3.7/site-packages (1.16.4)\n"
     ]
    }
   ],
   "source": [
    "! pip3 install matplotlib\n",
    "! pip3 install numpy\n",
    "\n",
    "import numpy as np\n",
    "import matplotlib.pyplot as plt\n",
    "\n",
    "%matplotlib notebook\n",
    "plt.style.use('dark_background')"
   ]
  },
  {
   "cell_type": "code",
   "execution_count": 2,
   "metadata": {},
   "outputs": [],
   "source": [
    "\n",
    "test_data = np.random.uniform(low=0.0, high=10.0, size=(1000,2))\n"
   ]
  },
  {
   "cell_type": "code",
   "execution_count": 3,
   "metadata": {},
   "outputs": [],
   "source": [
    "def get_log_likelihood(mu, sigma1, x, psedo_determinant_ln, N):\n",
    "    temp = (x - mu)\n",
    "    p = -N/2*np.log(2*np.pi) - 1/2*psedo_determinant_ln + (-1/2 * np.matmul(temp,np.matmul(sigma1,temp.T)))\n",
    "\n",
    "    return p"
   ]
  },
  {
   "cell_type": "markdown",
   "metadata": {},
   "source": [
    "> ## CASE 1"
   ]
  },
  {
   "cell_type": "code",
   "execution_count": 4,
   "metadata": {},
   "outputs": [],
   "source": [
    "mu1 = np.array([3,3])\n",
    "mu2 = np.array([7,7])\n",
    "sigma = np.array([\n",
    "    [3,0],\n",
    "    [0,3],\n",
    "])\n",
    "N = 1000\n",
    "\n",
    "# Distribution A\n",
    "A = np.random.multivariate_normal(mu1,sigma,N)\n",
    "meanA = np.mean(A,axis=0)\n",
    "covA = np.cov(A.T)\n",
    "icovA = np.linalg.inv(covA)\n",
    "lnDetA = np.log(np.linalg.det(covA))\n",
    "rnkA = np.linalg.matrix_rank(covA)\n",
    "\n",
    "\n",
    "# Distribution B\n",
    "B = np.random.multivariate_normal(mu2,sigma,N)\n",
    "meanB = np.mean(B,axis=0)\n",
    "covB = np.cov(B.T)\n",
    "icovB = np.linalg.inv(covB)\n",
    "lnDetB = np.log(np.linalg.det(covB))\n",
    "rnkB = np.linalg.matrix_rank(covB)\n",
    "\n",
    "predicted_class = np.zeros(len(test_data))\n",
    "\n",
    "for i in range(len(test_data)):\n",
    "    v1 = get_log_likelihood(meanA, icovA, test_data[i], lnDetA, rnkA)\n",
    "    v2 = get_log_likelihood(meanB, icovB, test_data[i], lnDetB, rnkB)\n",
    "    if v1 > v2:\n",
    "        predicted_class[i] = 0\n",
    "    else:\n",
    "        predicted_class[i] = 1\n",
    "        \n",
    "cA = test_data[predicted_class == 0]\n",
    "cB = test_data[predicted_class == 1]"
   ]
  },
  {
   "cell_type": "code",
   "execution_count": 5,
   "metadata": {},
   "outputs": [],
   "source": [
    "X = np.linspace(-4.0, 20.0, num=100)\n",
    "Y = 10 - X"
   ]
  },
  {
   "cell_type": "code",
   "execution_count": 10,
   "metadata": {},
   "outputs": [
    {
     "data": {
      "image/png": "[encoded data removed]",
      "text/plain": [
       "<Figure size 432x288 with 1 Axes>"
      ]
     },
     "metadata": {
      "needs_background": "dark"
     },
     "output_type": "display_data"
    }
   ],
   "source": [
    "# plt.scatter(A[:,0], A[:,1], c='r', s=2,marker='o')\n",
    "# plt.scatter(B[:,0], B[:,1], c='g', s=2,marker='o')\n",
    "plt.scatter(cA[:,0], cA[:,1], c='fuchsia', s=5,marker='*')\n",
    "plt.scatter(cB[:,0], cB[:,1], c='cyan', s=5,marker='o')\n",
    "plt.plot(X, Y, c='chartreuse', linewidth=3)\n",
    "plt.ylim((0, 10))\n",
    "plt.xlim((0, 10))\n",
    "plt.show()"
   ]
  },
  {
   "cell_type": "markdown",
   "metadata": {},
   "source": [
    "> ## CASE 2"
   ]
  },
  {
   "cell_type": "code",
   "execution_count": 7,
   "metadata": {},
   "outputs": [
    {
     "name": "stderr",
     "output_type": "stream",
     "text": [
      "/usr/local/lib/python3.7/site-packages/ipykernel_launcher.py:14: RuntimeWarning: covariance is not symmetric positive-semidefinite.\n",
      "  \n",
      "/usr/local/lib/python3.7/site-packages/ipykernel_launcher.py:23: RuntimeWarning: covariance is not symmetric positive-semidefinite.\n"
     ]
    }
   ],
   "source": [
    "mu1 = np.array([3,3])\n",
    "mu2 = np.array([7,7])\n",
    "sigma1 = np.array([\n",
    "    [3,1],\n",
    "    [2,3],\n",
    "])\n",
    "sigma2 = np.array([\n",
    "    [7,2],\n",
    "    [1,7],\n",
    "])\n",
    "N = 1000\n",
    "\n",
    "# Distribution A\n",
    "A = np.random.multivariate_normal(mu1,sigma1,N)\n",
    "meanA = np.mean(A,axis=0)\n",
    "covA = np.cov(A.T)\n",
    "icovA = np.linalg.inv(covA)\n",
    "lnDetA = np.log(np.linalg.det(covA))\n",
    "rnkA = np.linalg.matrix_rank(covA)\n",
    "\n",
    "\n",
    "# Distribution B\n",
    "B = np.random.multivariate_normal(mu2,sigma2,N)\n",
    "meanB = np.mean(B,axis=0)\n",
    "covB = np.cov(B.T)\n",
    "icovB = np.linalg.inv(covB)\n",
    "lnDetB = np.log(np.linalg.det(covB))\n",
    "rnkB = np.linalg.matrix_rank(covB)\n",
    "\n",
    "predicted_class = np.zeros(len(test_data))\n",
    "\n",
    "for i in range(len(test_data)):\n",
    "    v1 = get_log_likelihood(meanA, icovA, test_data[i], lnDetA, rnkA)\n",
    "    v2 = get_log_likelihood(meanB, icovB, test_data[i], lnDetB, rnkB)\n",
    "    if v1 > v2:\n",
    "        predicted_class[i] = 0\n",
    "    else:\n",
    "        predicted_class[i] = 1\n",
    "        \n",
    "cA = test_data[predicted_class == 0]\n",
    "cB = test_data[predicted_class == 1]"
   ]
  },
  {
   "cell_type": "code",
   "execution_count": 8,
   "metadata": {},
   "outputs": [
    {
     "name": "stderr",
     "output_type": "stream",
     "text": [
      "/usr/local/lib/python3.7/site-packages/ipykernel_launcher.py:2: RuntimeWarning: invalid value encountered in sqrt\n",
      "  \n",
      "/usr/local/lib/python3.7/site-packages/ipykernel_launcher.py:3: RuntimeWarning: invalid value encountered in sqrt\n",
      "  This is separate from the ipykernel package so we can avoid doing imports until\n"
     ]
    }
   ],
   "source": [
    "Y = np.linspace(-4.0, 20.0, num=100)\n",
    "X1 = 0.652181688125894*Y - 0.000178826895565093*(-17969855.0*Y**2 - 65134950.0*Y + 1076594409.0)**0.5 - 0.630364806866953\n",
    "X2 = 0.652181688125894*Y + 0.000178826895565093*(-17969855.0*Y**2 - 65134950.0*Y + 1076594409.0)**0.5 - 0.630364806866953\n"
   ]
  },
  {
   "cell_type": "code",
   "execution_count": 11,
   "metadata": {},
   "outputs": [
    {
     "data": {
      "image/png": "[encoded data removed]",
      "text/plain": [
       "<Figure size 432x288 with 1 Axes>"
      ]
     },
     "metadata": {
      "needs_background": "dark"
     },
     "output_type": "display_data"
    }
   ],
   "source": [
    "# plt.scatter(A[:,0], A[:,1], c='r', s=2,marker='o')\n",
    "# plt.scatter(B[:,0], B[:,1], c='g', s=2,marker='o')\n",
    "plt.scatter(cA[:,0], cA[:,1], c='fuchsia', s=5,marker='*')\n",
    "plt.scatter(cB[:,0], cB[:,1], c='cyan', s=5,marker='o')\n",
    "plt.plot(Y, X1, c='chartreuse', linewidth=3)\n",
    "plt.plot(Y, X2, c='chartreuse', linewidth=3)\n",
    "plt.ylim((0, 10))\n",
    "plt.xlim((0, 10))\n",
    "plt.show()"
   ]
  },
  {
   "cell_type": "code",
   "execution_count": null,
   "metadata": {},
   "outputs": [],
   "source": []
  }
 ],
 "metadata": {
  "kernelspec": {
   "display_name": "Python 3",
   "language": "python",
   "name": "python3"
  },
  "language_info": {
   "codemirror_mode": {
    "name": "ipython",
    "version": 3
   },
   "file_extension": ".py",
   "mimetype": "text/x-python",
   "name": "python",
   "nbconvert_exporter": "python",
   "pygments_lexer": "ipython3",
   "version": "3.7.3"
  }
 },
 "nbformat": 4,
 "nbformat_minor": 2
}
