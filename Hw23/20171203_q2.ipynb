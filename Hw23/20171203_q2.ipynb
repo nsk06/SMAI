{
 "cells": [
  {
   "cell_type": "code",
   "execution_count": 3,
   "metadata": {},
   "outputs": [],
   "source": [
    "import numpy as np\n",
    "from numpy import linalg as LA\n",
    "import matplotlib.pyplot as plt\n",
    "from keras.datasets import mnist\n",
    "from pyclustering.cluster.kmeans import kmeans, kmeans_visualizer\n",
    "from pyclustering.cluster.center_initializer import kmeans_plusplus_initializer\n",
    "from pyclustering.utils import read_sample\n",
    "from pyclustering.cluster import cluster_visualizer\n",
    "from pyclustering.cluster import cluster_visualizer_multidim\n",
    "import sys\n",
    "import matplotlib.pyplot as plt\n",
    "from sklearn.decomposition import PCA\n",
    "from sklearn.metrics import silhouette_samples, silhouette_score\n",
    "import random as rand"
   ]
  },
  {
   "cell_type": "code",
   "execution_count": 11,
   "metadata": {},
   "outputs": [
    {
     "name": "stdout",
     "output_type": "stream",
     "text": [
      "silhouette average for k = 2 : 0.9796674241938274\n",
      "silhouette average for k = 3 : 0.6990439504428412\n",
      "silhouette average for k = 4 : 0.7170802277739126\n",
      "silhouette average for k = 5 : 0.5991707180459457\n",
      "silhouette average for k = 6 : 0.5582642180451429\n",
      "silhouette average for k = 7 : 0.595130682781176\n",
      "silhouette average for k = 8 : 0.5445498241481622\n",
      "silhouette average for k = 9 : 0.5372718424193594\n",
      "silhouette average for k = 10 : 0.48669098378634573\n",
      "silhouette average for k = 11 : 0.4889275398208519\n",
      "silhouette average for k = 12 : 0.30122247600927793\n",
      "silhouette average for k = 13 : 0.21166616332562974\n",
      "silhouette average for k = 14 : 0.17617591212275388\n",
      "silhouette average for k = 15 : 0.1933077027407197\n",
      "silhouette average for k = 16 : 0.14719328160282233\n",
      "silhouette average for k = 17 : 0.0931773943166134\n",
      "silhouette average for k = 18 : 0.07491179833015843\n",
      "silhouette average for k = 19 : 0.06581515775254443\n"
     ]
    },
    {
     "data": {
      "image/png": "[encoded data removed]",
      "text/plain": [
       "<Figure size 432x288 with 1 Axes>"
      ]
     },
     "metadata": {
      "needs_background": "light"
     },
     "output_type": "display_data"
    }
   ],
   "source": [
    "class_A = []\n",
    "class_B = []\n",
    " \n",
    "for i in range(10):\n",
    "\tclass_A.append([1000+np.random.randint(1,120),1000+np.random.randint(1,120)])\n",
    "\tclass_B.append([-1000+np.random.randint(1,120),-1000+np.random.randint(1,120)])\n",
    "\n",
    "data_1 = np.vstack([class_A,class_B])\n",
    "avg = []\n",
    "kvals = []\n",
    "# Prepare initial centers using K-Means++ method.\n",
    "for k in range(2,20,1):\n",
    "\tinitial_centers = kmeans_plusplus_initializer(data_1, k).initialize()\n",
    "\tkmeans_instance = kmeans(data_1, initial_centers)\n",
    "\n",
    "\tkmeans_instance.process()\n",
    "\tclusters = kmeans_instance.get_clusters()\n",
    "\n",
    "\tcluster_labels = [0 for i in range(20)]\n",
    "\n",
    "\tfor i in range(k):\n",
    "\t\tfor j in range(len(clusters[i])) :\n",
    "\t\t\tcluster_labels[clusters[i][j]] = i\n",
    "\n",
    "\tsilhouette_avg = silhouette_score(data_1, cluster_labels)\n",
    "\tprint('silhouette average for k =',k,':',silhouette_avg)\n",
    "\tavg.append(silhouette_avg)\n",
    "\tkvals.append(k)\n",
    "\n",
    "\t# final_centers = kmeans_instance.get_centers()\n",
    "\n",
    "\t# use this for 1D,2D or 3D clustering\n",
    "\t# Visualize obtained results\n",
    "\t# kmeans_visualizer.show_clusters(inp, clusters, final_centers)\n",
    "\n",
    "plt.bar(kvals, avg, width = 0.6, color = ['red', 'blue'])\n",
    "plt.show()"
   ]
  }
 ],
 "metadata": {
  "kernelspec": {
   "display_name": "Python 3",
   "language": "python",
   "name": "python3"
  },
  "language_info": {
   "codemirror_mode": {
    "name": "ipython",
    "version": 3
   },
   "file_extension": ".py",
   "mimetype": "text/x-python",
   "name": "python",
   "nbconvert_exporter": "python",
   "pygments_lexer": "ipython3",
   "version": "3.7.3"
  }
 },
 "nbformat": 4,
 "nbformat_minor": 2
}
