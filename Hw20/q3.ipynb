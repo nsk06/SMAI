{
 "cells": [
  {
   "cell_type": "code",
   "execution_count": 1,
   "metadata": {},
   "outputs": [
    {
     "name": "stderr",
     "output_type": "stream",
     "text": [
      "Using TensorFlow backend.\n"
     ]
    }
   ],
   "source": [
    "import keras\n",
    "from keras.models import Sequential\n",
    "from keras.layers import Dense, Dropout\n",
    "import numpy as np\n",
    "import keras.optimizers\n",
    "import keras.initializers"
   ]
  },
  {
   "cell_type": "code",
   "execution_count": 16,
   "metadata": {},
   "outputs": [],
   "source": [
    "from numpy import linalg as LA\n",
    "import matplotlib.pyplot as plt\n",
    "from keras.datasets import mnist\n",
    "from keras.layers import Input, add\n",
    "from keras.models import Model\n",
    "from keras.layers import Input, add\n",
    "from keras.layers.core import Layer, Dense, Dropout, Activation, Flatten, Reshape\n",
    "from keras import regularizers\n",
    "from sklearn.metrics import mean_squared_error\n",
    "from sklearn.svm import SVC\n",
    "import copy"
   ]
  },
  {
   "cell_type": "code",
   "execution_count": 3,
   "metadata": {},
   "outputs": [],
   "source": [
    "(trainclass, trainlabels), (testclass, testlabels) = mnist.load_data()\n",
    "trainclass = trainclass.reshape(len(trainclass),28*28)\n",
    "testclass = testclass.reshape(len(testclass),28*28)\n",
    "trainclass = trainclass[0:10000]\n",
    "testclass = testclass[0:1000]\n",
    "trainlabels = trainlabels[0:10000]\n",
    "testlabels = testlabels[0:1000]\n",
    "testclass = testclass/255\n",
    "trainclass = trainclass/255\n",
    "predtrain  = keras.utils.to_categorical(trainlabels,10)\n",
    "predtest  = keras.utils.to_categorical(testlabels,10)"
   ]
  },
  {
   "cell_type": "code",
   "execution_count": 4,
   "metadata": {},
   "outputs": [],
   "source": [
    "input_size = 784\n",
    "hidden_size = 128\n",
    "code_size = 64\n",
    "epochs = 20\n",
    "batch_size = 128\n",
    "temp = [10,50,100,300,400,500]\n",
    "encoders = []\n",
    "for i in range(len(temp)):\n",
    "    hidden_size = temp[i]\n",
    "    code_size = temp[i]//2\n",
    "    x = Input(shape=(input_size,))\n",
    "    hidden_1 = Dense(hidden_size, activation='relu')(x)\n",
    "    h = Dense(code_size, activation='relu')(hidden_1)\n",
    "    hidden_2 = Dense(hidden_size, activation='relu')(h)\n",
    "    r = Dense(input_size, activation='sigmoid')(hidden_2)\n",
    "    autoencoder = Model(inputs=x, outputs=r)\n",
    "    autoencoder.compile(optimizer=keras.optimizers.Adam(), loss='mse')\n",
    "    history = autoencoder.fit(trainclass,trainclass, batch_size=batch_size, epochs=epochs, verbose=0, validation_data=(testclass,testclass))\n",
    "    encoders.append(Model(autoencoder.input,autoencoder.layers[-3].output))"
   ]
  },
  {
   "cell_type": "code",
   "execution_count": 5,
   "metadata": {},
   "outputs": [
    {
     "name": "stdout",
     "output_type": "stream",
     "text": [
      "Model: \"model_2\"\n",
      "_________________________________________________________________\n",
      "Layer (type)                 Output Shape              Param #   \n",
      "=================================================================\n",
      "input_1 (InputLayer)         (None, 784)               0         \n",
      "_________________________________________________________________\n",
      "dense_1 (Dense)              (None, 10)                7850      \n",
      "_________________________________________________________________\n",
      "dense_2 (Dense)              (None, 5)                 55        \n",
      "=================================================================\n",
      "Total params: 7,905\n",
      "Trainable params: 7,905\n",
      "Non-trainable params: 0\n",
      "_________________________________________________________________\n",
      "(1000, 5)\n",
      "Model: \"model_4\"\n",
      "_________________________________________________________________\n",
      "Layer (type)                 Output Shape              Param #   \n",
      "=================================================================\n",
      "input_2 (InputLayer)         (None, 784)               0         \n",
      "_________________________________________________________________\n",
      "dense_5 (Dense)              (None, 50)                39250     \n",
      "_________________________________________________________________\n",
      "dense_6 (Dense)              (None, 25)                1275      \n",
      "=================================================================\n",
      "Total params: 40,525\n",
      "Trainable params: 40,525\n",
      "Non-trainable params: 0\n",
      "_________________________________________________________________\n",
      "(1000, 25)\n",
      "Model: \"model_6\"\n",
      "_________________________________________________________________\n",
      "Layer (type)                 Output Shape              Param #   \n",
      "=================================================================\n",
      "input_3 (InputLayer)         (None, 784)               0         \n",
      "_________________________________________________________________\n",
      "dense_9 (Dense)              (None, 100)               78500     \n",
      "_________________________________________________________________\n",
      "dense_10 (Dense)             (None, 50)                5050      \n",
      "=================================================================\n",
      "Total params: 83,550\n",
      "Trainable params: 83,550\n",
      "Non-trainable params: 0\n",
      "_________________________________________________________________\n",
      "(1000, 50)\n",
      "Model: \"model_8\"\n",
      "_________________________________________________________________\n",
      "Layer (type)                 Output Shape              Param #   \n",
      "=================================================================\n",
      "input_4 (InputLayer)         (None, 784)               0         \n",
      "_________________________________________________________________\n",
      "dense_13 (Dense)             (None, 300)               235500    \n",
      "_________________________________________________________________\n",
      "dense_14 (Dense)             (None, 150)               45150     \n",
      "=================================================================\n",
      "Total params: 280,650\n",
      "Trainable params: 280,650\n",
      "Non-trainable params: 0\n",
      "_________________________________________________________________\n",
      "(1000, 150)\n",
      "Model: \"model_10\"\n",
      "_________________________________________________________________\n",
      "Layer (type)                 Output Shape              Param #   \n",
      "=================================================================\n",
      "input_5 (InputLayer)         (None, 784)               0         \n",
      "_________________________________________________________________\n",
      "dense_17 (Dense)             (None, 400)               314000    \n",
      "_________________________________________________________________\n",
      "dense_18 (Dense)             (None, 200)               80200     \n",
      "=================================================================\n",
      "Total params: 394,200\n",
      "Trainable params: 394,200\n",
      "Non-trainable params: 0\n",
      "_________________________________________________________________\n",
      "(1000, 200)\n",
      "Model: \"model_12\"\n",
      "_________________________________________________________________\n",
      "Layer (type)                 Output Shape              Param #   \n",
      "=================================================================\n",
      "input_6 (InputLayer)         (None, 784)               0         \n",
      "_________________________________________________________________\n",
      "dense_21 (Dense)             (None, 500)               392500    \n",
      "_________________________________________________________________\n",
      "dense_22 (Dense)             (None, 250)               125250    \n",
      "=================================================================\n",
      "Total params: 517,750\n",
      "Trainable params: 517,750\n",
      "Non-trainable params: 0\n",
      "_________________________________________________________________\n",
      "(1000, 250)\n"
     ]
    }
   ],
   "source": [
    "# print(autoencoder.layers)\n",
    "for encoder in encoders:\n",
    "    encoder.summary()\n",
    "    testpred = encoder.predict(testclass)\n",
    "    print(testpred.shape)"
   ]
  },
  {
   "cell_type": "code",
   "execution_count": 11,
   "metadata": {},
   "outputs": [],
   "source": [
    "model_raw = SVC(C=.1,kernel = 'linear')\n",
    "model_raw.fit(trainclass,trainlabels)\n",
    "raw_preds = model_raw.predict(testclass)"
   ]
  },
  {
   "cell_type": "code",
   "execution_count": 13,
   "metadata": {},
   "outputs": [
    {
     "name": "stdout",
     "output_type": "stream",
     "text": [
      "91.9\n"
     ]
    }
   ],
   "source": [
    "accuracy_raw = 0\n",
    "for i in range(len(testlabels)):\n",
    "    if(raw_preds[i]==testlabels[i]):\n",
    "        accuracy_raw +=1\n",
    "print(accuracy_raw/10)"
   ]
  },
  {
   "cell_type": "code",
   "execution_count": 8,
   "metadata": {},
   "outputs": [
    {
     "name": "stdout",
     "output_type": "stream",
     "text": [
      "58.7\n",
      "89.2\n",
      "91.0\n",
      "90.4\n",
      "91.5\n",
      "92.1\n"
     ]
    }
   ],
   "source": [
    "model_encode = SVC(C=.1,kernel='linear')\n",
    "accs = []\n",
    "for encoder in encoders:\n",
    "    encoded_train = encoder.predict(trainclass)\n",
    "    encoded_test = encoder.predict(testclass)\n",
    "    model_encode.fit(encoded_train,trainlabels)\n",
    "    preds = model_encode.predict(encoded_test)\n",
    "    accuracy_encode = 0\n",
    "    for i in range(len(testlabels)):\n",
    "        if(preds[i]==testlabels[i]):\n",
    "            accuracy_encode +=1\n",
    "    print(accuracy_encode/10)\n",
    "    accs.append(accuracy_encode/10)"
   ]
  },
  {
   "cell_type": "code",
   "execution_count": 19,
   "metadata": {},
   "outputs": [
    {
     "data": {
      "image/png": "[encoded data removed]",
      "text/plain": [
       "<Figure size 432x288 with 1 Axes>"
      ]
     },
     "metadata": {
      "needs_background": "light"
     },
     "output_type": "display_data"
    }
   ],
   "source": [
    "temp = [10,50,100,300,400,500]\n",
    "accs = [58.7, 89.2, 91.0, 90.4, 91.5, 92.1]\n",
    "neurons = [temp[i]//2 for i in range(len(temp))]\n",
    "neurons.append(\"Raw\")\n",
    "y_pos = np.arange(len(neurons))\n",
    "temp2 = copy.deepcopy(accs)\n",
    "temp2.append(accuracy_raw/10)\n",
    "plt.bar(y_pos,temp2, align='center', alpha=0.5)\n",
    "plt.xticks(y_pos, neurons)\n",
    "plt.ylabel('Accuracy')\n",
    "plt.xlabel(\"Number of encoded features\")\n",
    "plt.title('SVM classifier with Linear kernel')\n",
    "plt.tight_layout()\n",
    "plt.show()"
   ]
  },
  {
   "cell_type": "code",
   "execution_count": null,
   "metadata": {},
   "outputs": [],
   "source": []
  }
 ],
 "metadata": {
  "kernelspec": {
   "display_name": "Python 3",
   "language": "python",
   "name": "python3"
  },
  "language_info": {
   "codemirror_mode": {
    "name": "ipython",
    "version": 3
   },
   "file_extension": ".py",
   "mimetype": "text/x-python",
   "name": "python",
   "nbconvert_exporter": "python",
   "pygments_lexer": "ipython3",
   "version": "3.7.3"
  }
 },
 "nbformat": 4,
 "nbformat_minor": 2
}
